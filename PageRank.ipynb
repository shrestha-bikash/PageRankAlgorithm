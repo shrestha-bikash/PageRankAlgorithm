{
  "nbformat": 4,
  "nbformat_minor": 0,
  "metadata": {
    "colab": {
      "name": "PageRank",
      "provenance": [],
      "include_colab_link": true
    },
    "kernelspec": {
      "name": "python3",
      "display_name": "Python 3"
    }
  },
  "cells": [
    {
      "cell_type": "markdown",
      "metadata": {
        "id": "view-in-github",
        "colab_type": "text"
      },
      "source": [
        "<a href=\"https://colab.research.google.com/github/shrestha-bikash/PageRankAlgorithm/blob/master/PageRank.ipynb\" target=\"_parent\"><img src=\"https://colab.research.google.com/assets/colab-badge.svg\" alt=\"Open In Colab\"/></a>"
      ]
    },
    {
      "cell_type": "markdown",
      "metadata": {
        "id": "BP6_azI0M0uK",
        "colab_type": "text"
      },
      "source": [
        "# Graph to show the links between pages \n",
        "\n",
        "![Image](https://raw.githubusercontent.com/badriadhikari/2019-Fall-AI/master/homeworks/pagerank.png)"
      ]
    },
    {
      "cell_type": "markdown",
      "metadata": {
        "id": "46QrWL0jwjpN",
        "colab_type": "text"
      },
      "source": [
        "# Defining the above graph"
      ]
    },
    {
      "cell_type": "code",
      "metadata": {
        "id": "Poc6-Da8MxAs",
        "colab_type": "code",
        "colab": {
          "base_uri": "https://localhost:8080/",
          "height": 34
        },
        "outputId": "86c3f601-c17c-4a28-e45a-97fc88278538"
      },
      "source": [
        "data = {\n",
        "    'a': {\n",
        "        'in': ['b'],\n",
        "        'out': ['b']\n",
        "    },\n",
        "    'b': {\n",
        "        'in': ['a', 'c'],\n",
        "        'out': ['a', 'c']\n",
        "    },\n",
        "    'c': {\n",
        "        'in': ['b'],\n",
        "        'out': ['b']\n",
        "    }\n",
        "}\n",
        "\n",
        "N = len(data)\n",
        "d = 0.7\n",
        "\n",
        "print(data)"
      ],
      "execution_count": 128,
      "outputs": [
        {
          "output_type": "stream",
          "text": [
            "{'a': {'in': ['b'], 'out': ['b']}, 'b': {'in': ['a', 'c'], 'out': ['a', 'c']}, 'c': {'in': ['b'], 'out': ['b']}}\n"
          ],
          "name": "stdout"
        }
      ]
    },
    {
      "cell_type": "markdown",
      "metadata": {
        "id": "ss5cNL14wRyd",
        "colab_type": "text"
      },
      "source": [
        "# Calculate PageRank"
      ]
    },
    {
      "cell_type": "code",
      "metadata": {
        "id": "AZmNybYBmrj6",
        "colab_type": "code",
        "colab": {}
      },
      "source": [
        "def pageRank(node):\n",
        "    c = (1 - d)/N\n",
        "    inLink = data[node]['in']\n",
        "    outLink = data[node]['out']\n",
        "\n",
        "    temp = 0\n",
        "    for n in inLink:\n",
        "        pr = data[n]['pr']\n",
        "        temp += pr/len(data[n]['out'])\n",
        "    \n",
        "    temp = c + (d * temp)\n",
        "    return round(temp, 8)\n"
      ],
      "execution_count": 0,
      "outputs": []
    },
    {
      "cell_type": "markdown",
      "metadata": {
        "id": "rJou5nZywYfG",
        "colab_type": "text"
      },
      "source": [
        "# Iteratively calculating until values become same"
      ]
    },
    {
      "cell_type": "code",
      "metadata": {
        "id": "IGv-vlEfjrmG",
        "colab_type": "code",
        "colab": {
          "base_uri": "https://localhost:8080/",
          "height": 1000
        },
        "outputId": "c90e75bc-6656-48bc-8996-125ac2da4e6b"
      },
      "source": [
        "# initially setting page rank to 1\n",
        "for key in data:\n",
        "    data[key]['pr'] = 1\n",
        "\n",
        "isStop = False\n",
        "i = 0\n",
        "while(not isStop):\n",
        "    print('\\n%d iteretion \\n' % (i+1))\n",
        "    i += 1\n",
        "    for key in data:\n",
        "        print(data[key])\n",
        "        pRank = pageRank(key)\n",
        "\n",
        "        if pRank == data[key]['pr']:\n",
        "            isStop = True\n",
        "        else:\n",
        "            isStop = False\n",
        "        \n",
        "        data[key]['pr'] = pRank\n",
        "        "
      ],
      "execution_count": 132,
      "outputs": [
        {
          "output_type": "stream",
          "text": [
            "\n",
            "1 iteretion \n",
            "\n",
            "{'in': ['b'], 'out': ['b'], 'pr': 1}\n",
            "{'in': ['a', 'c'], 'out': ['a', 'c'], 'pr': 1}\n",
            "{'in': ['b'], 'out': ['b'], 'pr': 1}\n",
            "\n",
            "2 iteretion \n",
            "\n",
            "{'in': ['b'], 'out': ['b'], 'pr': 0.45}\n",
            "{'in': ['a', 'c'], 'out': ['a', 'c'], 'pr': 1.115}\n",
            "{'in': ['b'], 'out': ['b'], 'pr': 0.49025}\n",
            "\n",
            "3 iteretion \n",
            "\n",
            "{'in': ['b'], 'out': ['b'], 'pr': 0.49025}\n",
            "{'in': ['a', 'c'], 'out': ['a', 'c'], 'pr': 0.78635}\n",
            "{'in': ['b'], 'out': ['b'], 'pr': 0.3752225}\n",
            "\n",
            "4 iteretion \n",
            "\n",
            "{'in': ['b'], 'out': ['b'], 'pr': 0.3752225}\n",
            "{'in': ['a', 'c'], 'out': ['a', 'c'], 'pr': 0.6253115}\n",
            "{'in': ['b'], 'out': ['b'], 'pr': 0.31885903}\n",
            "\n",
            "5 iteretion \n",
            "\n",
            "{'in': ['b'], 'out': ['b'], 'pr': 0.31885903}\n",
            "{'in': ['a', 'c'], 'out': ['a', 'c'], 'pr': 0.54640264}\n",
            "{'in': ['b'], 'out': ['b'], 'pr': 0.29124092}\n",
            "\n",
            "6 iteretion \n",
            "\n",
            "{'in': ['b'], 'out': ['b'], 'pr': 0.29124092}\n",
            "{'in': ['a', 'c'], 'out': ['a', 'c'], 'pr': 0.50773729}\n",
            "{'in': ['b'], 'out': ['b'], 'pr': 0.27770805}\n",
            "\n",
            "7 iteretion \n",
            "\n",
            "{'in': ['b'], 'out': ['b'], 'pr': 0.27770805}\n",
            "{'in': ['a', 'c'], 'out': ['a', 'c'], 'pr': 0.48879127}\n",
            "{'in': ['b'], 'out': ['b'], 'pr': 0.27107694}\n",
            "\n",
            "8 iteretion \n",
            "\n",
            "{'in': ['b'], 'out': ['b'], 'pr': 0.27107694}\n",
            "{'in': ['a', 'c'], 'out': ['a', 'c'], 'pr': 0.47950772}\n",
            "{'in': ['b'], 'out': ['b'], 'pr': 0.2678277}\n",
            "\n",
            "9 iteretion \n",
            "\n",
            "{'in': ['b'], 'out': ['b'], 'pr': 0.2678277}\n",
            "{'in': ['a', 'c'], 'out': ['a', 'c'], 'pr': 0.47495878}\n",
            "{'in': ['b'], 'out': ['b'], 'pr': 0.26623557}\n",
            "\n",
            "10 iteretion \n",
            "\n",
            "{'in': ['b'], 'out': ['b'], 'pr': 0.26623557}\n",
            "{'in': ['a', 'c'], 'out': ['a', 'c'], 'pr': 0.4727298}\n",
            "{'in': ['b'], 'out': ['b'], 'pr': 0.26545543}\n",
            "\n",
            "11 iteretion \n",
            "\n",
            "{'in': ['b'], 'out': ['b'], 'pr': 0.26545543}\n",
            "{'in': ['a', 'c'], 'out': ['a', 'c'], 'pr': 0.4716376}\n",
            "{'in': ['b'], 'out': ['b'], 'pr': 0.26507316}\n",
            "\n",
            "12 iteretion \n",
            "\n",
            "{'in': ['b'], 'out': ['b'], 'pr': 0.26507316}\n",
            "{'in': ['a', 'c'], 'out': ['a', 'c'], 'pr': 0.47110242}\n",
            "{'in': ['b'], 'out': ['b'], 'pr': 0.26488585}\n",
            "\n",
            "13 iteretion \n",
            "\n",
            "{'in': ['b'], 'out': ['b'], 'pr': 0.26488585}\n",
            "{'in': ['a', 'c'], 'out': ['a', 'c'], 'pr': 0.47084019}\n",
            "{'in': ['b'], 'out': ['b'], 'pr': 0.26479407}\n",
            "\n",
            "14 iteretion \n",
            "\n",
            "{'in': ['b'], 'out': ['b'], 'pr': 0.26479407}\n",
            "{'in': ['a', 'c'], 'out': ['a', 'c'], 'pr': 0.4707117}\n",
            "{'in': ['b'], 'out': ['b'], 'pr': 0.26474909}\n",
            "\n",
            "15 iteretion \n",
            "\n",
            "{'in': ['b'], 'out': ['b'], 'pr': 0.26474909}\n",
            "{'in': ['a', 'c'], 'out': ['a', 'c'], 'pr': 0.47064873}\n",
            "{'in': ['b'], 'out': ['b'], 'pr': 0.26472706}\n",
            "\n",
            "16 iteretion \n",
            "\n",
            "{'in': ['b'], 'out': ['b'], 'pr': 0.26472706}\n",
            "{'in': ['a', 'c'], 'out': ['a', 'c'], 'pr': 0.47061788}\n",
            "{'in': ['b'], 'out': ['b'], 'pr': 0.26471626}\n",
            "\n",
            "17 iteretion \n",
            "\n",
            "{'in': ['b'], 'out': ['b'], 'pr': 0.26471626}\n",
            "{'in': ['a', 'c'], 'out': ['a', 'c'], 'pr': 0.47060276}\n",
            "{'in': ['b'], 'out': ['b'], 'pr': 0.26471097}\n",
            "\n",
            "18 iteretion \n",
            "\n",
            "{'in': ['b'], 'out': ['b'], 'pr': 0.26471097}\n",
            "{'in': ['a', 'c'], 'out': ['a', 'c'], 'pr': 0.47059536}\n",
            "{'in': ['b'], 'out': ['b'], 'pr': 0.26470838}\n",
            "\n",
            "19 iteretion \n",
            "\n",
            "{'in': ['b'], 'out': ['b'], 'pr': 0.26470838}\n",
            "{'in': ['a', 'c'], 'out': ['a', 'c'], 'pr': 0.47059173}\n",
            "{'in': ['b'], 'out': ['b'], 'pr': 0.26470711}\n",
            "\n",
            "20 iteretion \n",
            "\n",
            "{'in': ['b'], 'out': ['b'], 'pr': 0.26470711}\n",
            "{'in': ['a', 'c'], 'out': ['a', 'c'], 'pr': 0.47058995}\n",
            "{'in': ['b'], 'out': ['b'], 'pr': 0.26470648}\n",
            "\n",
            "21 iteretion \n",
            "\n",
            "{'in': ['b'], 'out': ['b'], 'pr': 0.26470648}\n",
            "{'in': ['a', 'c'], 'out': ['a', 'c'], 'pr': 0.47058907}\n",
            "{'in': ['b'], 'out': ['b'], 'pr': 0.26470617}\n",
            "\n",
            "22 iteretion \n",
            "\n",
            "{'in': ['b'], 'out': ['b'], 'pr': 0.26470617}\n",
            "{'in': ['a', 'c'], 'out': ['a', 'c'], 'pr': 0.47058864}\n",
            "{'in': ['b'], 'out': ['b'], 'pr': 0.26470602}\n",
            "\n",
            "23 iteretion \n",
            "\n",
            "{'in': ['b'], 'out': ['b'], 'pr': 0.26470602}\n",
            "{'in': ['a', 'c'], 'out': ['a', 'c'], 'pr': 0.47058843}\n",
            "{'in': ['b'], 'out': ['b'], 'pr': 0.26470595}\n",
            "\n",
            "24 iteretion \n",
            "\n",
            "{'in': ['b'], 'out': ['b'], 'pr': 0.26470595}\n",
            "{'in': ['a', 'c'], 'out': ['a', 'c'], 'pr': 0.47058833}\n",
            "{'in': ['b'], 'out': ['b'], 'pr': 0.26470592}\n",
            "\n",
            "25 iteretion \n",
            "\n",
            "{'in': ['b'], 'out': ['b'], 'pr': 0.26470592}\n",
            "{'in': ['a', 'c'], 'out': ['a', 'c'], 'pr': 0.47058829}\n",
            "{'in': ['b'], 'out': ['b'], 'pr': 0.2647059}\n",
            "\n",
            "26 iteretion \n",
            "\n",
            "{'in': ['b'], 'out': ['b'], 'pr': 0.2647059}\n",
            "{'in': ['a', 'c'], 'out': ['a', 'c'], 'pr': 0.47058826}\n",
            "{'in': ['b'], 'out': ['b'], 'pr': 0.26470589}\n"
          ],
          "name": "stdout"
        }
      ]
    },
    {
      "cell_type": "markdown",
      "metadata": {
        "id": "ZHMiqwmDxWJJ",
        "colab_type": "text"
      },
      "source": [
        "# Mannual calculation of the page rank using matrices"
      ]
    },
    {
      "cell_type": "code",
      "metadata": {
        "id": "3bJ0hj6NhQmA",
        "colab_type": "code",
        "colab": {
          "base_uri": "https://localhost:8080/",
          "height": 34
        },
        "outputId": "e5239279-59d2-4336-e0a8-134bd0dbeb18"
      },
      "source": [
        "import numpy as np\n",
        "\n",
        "A = np.array([[1, -0.35, 0], [-0.7, 1, -0.7], [0, -0.35, 1]])\n",
        "b = np.array([0.1, 0.1, 0.1])\n",
        "\n",
        "X = np.linalg.solve(A, b)\n",
        "\n",
        "print(X)"
      ],
      "execution_count": 131,
      "outputs": [
        {
          "output_type": "stream",
          "text": [
            "[0.26470588 0.47058824 0.26470588]\n"
          ],
          "name": "stdout"
        }
      ]
    }
  ]
}